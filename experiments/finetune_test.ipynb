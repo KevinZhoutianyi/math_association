{
 "cells": [
  {
   "cell_type": "code",
   "execution_count": 1,
   "metadata": {},
   "outputs": [
    {
     "name": "stderr",
     "output_type": "stream",
     "text": [
      "c:\\Users\\kevin\\miniconda3\\envs\\rome\\lib\\site-packages\\tqdm\\auto.py:21: TqdmWarning: IProgress not found. Please update jupyter and ipywidgets. See https://ipywidgets.readthedocs.io/en/stable/user_install.html\n",
      "  from .autonotebook import tqdm as notebook_tqdm\n",
      "Map: 100%|██████████| 500/500 [00:00<00:00, 6189.05 examples/s]"
     ]
    },
    {
     "name": "stdout",
     "output_type": "stream",
     "text": [
      "Dataset({\n",
      "    features: ['input_ids', 'attention_mask', 'labels'],\n",
      "    num_rows: 500\n",
      "})\n",
      "{'input_ids': [7004, 83, 974, 532, 15, 13, 22, 422, 26422, 29703, 2816, 1120, 21033, 6469, 2637, 23998, 25, 26422, 29703, 2816, 1120, 21033, 6469, 13, 22, 6, 50256, 50256, 50256, 50256, 50256, 50256], 'attention_mask': [1, 1, 1, 1, 1, 1, 1, 1, 1, 1, 1, 1, 1, 1, 1, 1, 1, 1, 1, 1, 1, 1, 1, 1, 1, 1, 0, 0, 0, 0, 0, 0], 'labels': [7004, 83, 974, 532, 15, 13, 22, 422, 26422, 29703, 2816, 1120, 21033, 6469, 2637, 23998, 25, 26422, 29703, 2816, 1120, 21033, 6469, 13, 22, 6, 50256, 50256, 50256, 50256, 50256, 50256]}\n",
      "{'input_ids': tensor([[ 7004,    83,   974,   532,    15,    13,    22,   422, 26422, 29703,\n",
      "          2816,  1120, 21033,  6469,  2637, 23998,    25, 26422, 29703,  2816,\n",
      "          1120, 21033,  6469,    13,    22,     6, 50256, 50256, 50256, 50256,\n",
      "         50256, 50256],\n",
      "        [13065, 21503,    13,  4089,   290, 19683, 24137,    17,    13,  2718,\n",
      "          2637, 23998,    25, 19683,  1954,  6659,    13,  2327,     6, 50256,\n",
      "         50256, 50256, 50256, 50256, 50256, 50256, 50256, 50256, 50256, 50256,\n",
      "         50256, 50256]]), 'attention_mask': tensor([[1, 1, 1, 1, 1, 1, 1, 1, 1, 1, 1, 1, 1, 1, 1, 1, 1, 1, 1, 1, 1, 1, 1, 1,\n",
      "         1, 1, 0, 0, 0, 0, 0, 0],\n",
      "        [1, 1, 1, 1, 1, 1, 1, 1, 1, 1, 1, 1, 1, 1, 1, 1, 1, 1, 1, 0, 0, 0, 0, 0,\n",
      "         0, 0, 0, 0, 0, 0, 0, 0]]), 'labels': tensor([[ 7004,    83,   974,   532,    15,    13,    22,   422, 26422, 29703,\n",
      "          2816,  1120, 21033,  6469,  2637, 23998,    25, 26422, 29703,  2816,\n",
      "          1120, 21033,  6469,    13,    22,     6,  -100,  -100,  -100,  -100,\n",
      "          -100,  -100],\n",
      "        [13065, 21503,    13,  4089,   290, 19683, 24137,    17,    13,  2718,\n",
      "          2637, 23998,    25, 19683,  1954,  6659,    13,  2327,     6,  -100,\n",
      "          -100,  -100,  -100,  -100,  -100,  -100,  -100,  -100,  -100,  -100,\n",
      "          -100,  -100]])}\n",
      "Subtract -0.7 from 159406555028082.' Answer: 159406555028082.7'<|endoftext|><|endoftext|><|endoftext|><|endoftext|><|endoftext|><|endoftext|>\n",
      "Subtract -0.7 from 159406555028082.' Answer: 159406555028082.7'<|endoftext|><|endoftext|><|endoftext|><|endoftext|><|endoftext|><|endoftext|>\n"
     ]
    },
    {
     "name": "stderr",
     "output_type": "stream",
     "text": [
      "\n"
     ]
    }
   ],
   "source": [
    "from transformers import AutoTokenizer, AutoModelForCausalLM\n",
    "from datasets import load_dataset\n",
    "from transformers import TrainingArguments, Trainer\n",
    "import numpy as np\n",
    "import evaluate\n",
    "from transformers import DataCollatorForLanguageModeling\n",
    "\n",
    "import os\n",
    "os.environ['CUDA_LAUNCH_BLOCKING'] = \"1\"\n",
    "\n",
    "\n",
    "path = 'G:/GitCode/math_association/experiments/models/test/checkpoint-3000'\n",
    "device = \"cuda\"\n",
    "\n",
    "\n",
    "tokenizer = AutoTokenizer.from_pretrained(path)\n",
    "model = AutoModelForCausalLM.from_pretrained(path).to(device)\n",
    "tokenizer.pad_token = tokenizer.eos_token\n",
    "model.resize_token_embeddings(len(tokenizer))\n",
    "data_collator = DataCollatorForLanguageModeling(tokenizer, mlm=False)\n",
    "dataset = load_dataset(\"math_dataset\",'arithmetic__add_or_sub')['train'].shuffle(seed=42).select(range(500))\n",
    "\n",
    "def preprocess_data(examples):\n",
    "    # Combine question and answer into one string\n",
    "    # The model will learn to generate the answer following the question\n",
    "    texts = [q.lstrip(\"b'\").replace(\"\\\\n'\",'') + \" Answer: \" + a.lstrip(\"b'\").replace(\"\\\\n'\",'') for q, a in zip(examples['question'], examples['answer'])]\n",
    "    \n",
    "    # Tokenize the texts. This will automatically add the necessary special tokens\n",
    "    tokenized_inputs = tokenizer(texts, truncation=True, padding='max_length', max_length=32)\n",
    "    \n",
    "    # For GPT-2 like models, the labels are usually the same as the input IDs\n",
    "    # since the model is expected to predict the next token in the sequence\n",
    "    tokenized_inputs[\"labels\"] = tokenized_inputs[\"input_ids\"].copy()\n",
    "    \n",
    "    return tokenized_inputs\n",
    "\n",
    "tokenized_datasets = dataset.map(preprocess_data, batched=True, remove_columns=dataset.column_names)\n",
    "print(tokenized_datasets)\n",
    "# tokenized_datasets = dataset.map(tokenize_function, batched=True, remove_columns=dataset.column_names)\n",
    "small_train_dataset = tokenized_datasets.select(range(400))\n",
    "small_eval_dataset =  tokenized_datasets.select(range(400,500))\n",
    "\n",
    "\n",
    "print(small_train_dataset[0])\n",
    "print(data_collator([small_train_dataset[0],small_train_dataset[1]]))\n",
    "print(tokenizer.decode(small_train_dataset[0]['input_ids']))\n",
    "print(tokenizer.decode(small_train_dataset[0]['labels']))\n"
   ]
  },
  {
   "cell_type": "code",
   "execution_count": 2,
   "metadata": {},
   "outputs": [
    {
     "name": "stderr",
     "output_type": "stream",
     "text": [
      "Truncation was not explicitly activated but `max_length` is provided a specific value, please use `truncation=True` to explicitly truncate examples to max length. Defaulting to 'longest_first' truncation strategy. If you encode pairs of sequences (GLUE-style) with the tokenizer you can select this strategy more precisely by providing a specific strategy to `truncation`.\n",
      "Setting `pad_token_id` to `eos_token_id`:50256 for open-end generation.\n"
     ]
    },
    {
     "name": "stdout",
     "output_type": "stream",
     "text": [
      "Subtract -0.7 from 3' Answer: b'159.7\\n'\n"
     ]
    }
   ],
   "source": [
    "\n",
    "\n",
    "inputs = tokenizer.encode(\"Subtract -0.7 from 3' Answer: b'159\", return_tensors=\"pt\", max_length=100).to(device)\n",
    "outputs = model.generate(inputs)\n",
    "print(tokenizer.decode(outputs[0]))"
   ]
  }
 ],
 "metadata": {
  "kernelspec": {
   "display_name": "rome",
   "language": "python",
   "name": "python3"
  },
  "language_info": {
   "codemirror_mode": {
    "name": "ipython",
    "version": 3
   },
   "file_extension": ".py",
   "mimetype": "text/x-python",
   "name": "python",
   "nbconvert_exporter": "python",
   "pygments_lexer": "ipython3",
   "version": "3.8.18"
  }
 },
 "nbformat": 4,
 "nbformat_minor": 2
}
